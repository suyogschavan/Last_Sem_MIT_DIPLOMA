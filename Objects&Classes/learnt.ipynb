{
 "cells": [
  {
   "cell_type": "markdown",
   "metadata": {},
   "source": [
    "Objects and Classes in Python"
   ]
  },
  {
   "cell_type": "code",
   "execution_count": 2,
   "metadata": {},
   "outputs": [
    {
     "name": "stdout",
     "output_type": "stream",
     "text": [
      "Hii I'm  Suyog\n",
      "I am eligible to vote\n"
     ]
    }
   ],
   "source": [
    "class Person:\n",
    "    def __init__(self):\n",
    "        self.name = 'Suyog'\n",
    "        self.age = 19\n",
    "        self.gender = \"Male\"\n",
    "    \n",
    "    def talk(self):\n",
    "        print(\"Hii I'm \", self.name)\n",
    "    \n",
    "    def vote(self):\n",
    "        if self.age<18:\n",
    "            print(\"I am not eligible to vote \")\n",
    "        else:\n",
    "            print(\"I am eligible to vote\")\n",
    "        \n",
    "    \n",
    "# Object of class Person \n",
    "obj = Person()\n",
    "obj.talk()\n",
    "obj.vote()"
   ]
  },
  {
   "cell_type": "markdown",
   "metadata": {},
   "source": [
    "class Family():\n",
    "    self.f_number =\n",
    "\n",
    "    \n",
    "    \n"
   ]
  }
 ],
 "metadata": {
  "interpreter": {
   "hash": "b3ba2566441a7c06988d0923437866b63cedc61552a5af99d1f4fb67d367b25f"
  },
  "kernelspec": {
   "display_name": "Python 3.9.7 64-bit ('base': conda)",
   "language": "python",
   "name": "python3"
  },
  "language_info": {
   "codemirror_mode": {
    "name": "ipython",
    "version": 3
   },
   "file_extension": ".py",
   "mimetype": "text/x-python",
   "name": "python",
   "nbconvert_exporter": "python",
   "pygments_lexer": "ipython3",
   "version": "3.9.7"
  },
  "orig_nbformat": 4
 },
 "nbformat": 4,
 "nbformat_minor": 2
}
