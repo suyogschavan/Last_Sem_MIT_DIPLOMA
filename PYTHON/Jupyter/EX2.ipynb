{
 "cells": [
  {
   "cell_type": "markdown",
   "metadata": {},
   "source": [
    "1) Write a program to find the number is even or odd "
   ]
  },
  {
   "cell_type": "code",
   "execution_count": 1,
   "metadata": {},
   "outputs": [
    {
     "name": "stdout",
     "output_type": "stream",
     "text": [
      "Even\n"
     ]
    }
   ],
   "source": [
    "a = int(input(\"Enter the number \"))\n",
    "print(\"Even\" if(a%2==0)else\"Odd\")"
   ]
  },
  {
   "cell_type": "markdown",
   "metadata": {},
   "source": [
    "2) Write a program to get absolute value"
   ]
  },
  {
   "cell_type": "code",
   "execution_count": 10,
   "metadata": {},
   "outputs": [
    {
     "name": "stdout",
     "output_type": "stream",
     "text": [
      "98\n"
     ]
    }
   ],
   "source": [
    "b = int(input(\"Enter the number \"))\n",
    "print(f\"{b}\" if(b>0)else f\"{-b}\")"
   ]
  },
  {
   "cell_type": "markdown",
   "metadata": {},
   "source": [
    "3. Program to find largest of three numbers"
   ]
  },
  {
   "cell_type": "code",
   "execution_count": 23,
   "metadata": {},
   "outputs": [
    {
     "data": {
      "text/plain": [
       "'6 is greatest'"
      ]
     },
     "execution_count": 23,
     "metadata": {},
     "output_type": "execute_result"
    }
   ],
   "source": [
    "c = int(input(\"Enter the number \"))\n",
    "d = int(input(\"Enter the number \"))\n",
    "f = int(input(\"Enter the number \"))\n",
    "\n",
    "f\"{c} is greatest\" if(c>d and c>f) else (f\"{d} is greatest\" if(d>c and d>f)else f\"{c} is greatest\")"
   ]
  }
 ],
 "metadata": {
  "interpreter": {
   "hash": "08f1626ad42a3104044beb7fdcd376c2c5af63314028659243a73e7eb5810e5e"
  },
  "kernelspec": {
   "display_name": "Python 3.9.0 64-bit",
   "language": "python",
   "name": "python3"
  },
  "language_info": {
   "codemirror_mode": {
    "name": "ipython",
    "version": 3
   },
   "file_extension": ".py",
   "mimetype": "text/x-python",
   "name": "python",
   "nbconvert_exporter": "python",
   "pygments_lexer": "ipython3",
   "version": "3.9.7"
  },
  "orig_nbformat": 4
 },
 "nbformat": 4,
 "nbformat_minor": 2
}
